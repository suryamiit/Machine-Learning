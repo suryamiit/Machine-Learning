{
 "cells": [
  {
   "cell_type": "code",
   "execution_count": 2,
   "metadata": {
    "collapsed": true
   },
   "outputs": [],
   "source": [
    "import numpy as np\n",
    "import pandas as pd\n",
    "\n",
    "import matplotlib.pyplot as plt\n",
    "from sklearn import linear_model  # importing to do linear regression\n",
    "%matplotlib inline \n",
    "import math\n",
    "from sklearn import metrics\n",
    "from sklearn.metrics import r2_score\n",
    "# visualize the graph in result itself we included the line"
   ]
  },
  {
   "cell_type": "code",
   "execution_count": 3,
   "metadata": {
    "collapsed": true
   },
   "outputs": [],
   "source": [
    "# read data set\n",
    "dataset_train = pd.read_csv('father_son_heights.csv')\n",
    "\n",
    "\n",
    "# assign data into panda data frames\n",
    "x_train = dataset_train['Father'].values.reshape(-1,1)\n",
    "#reshaping the 1D array to 2 D to make it easy for sklearn. List to array\n",
    "\n",
    "y_train = dataset_train['Son'].values.reshape(-1,1)\n",
    "#print (\"Training data \\n\",dataset_train)\n",
    "x_train1=x_train[0:807]\n",
    "y_train1=y_train[0:807]\n",
    "x_test1=x_train[808:]\n",
    "y_test1=y_train[808:]"
   ]
  },
  {
   "cell_type": "code",
   "execution_count": 4,
   "metadata": {
    "scrolled": true
   },
   "outputs": [
    {
     "data": {
      "text/plain": [
       "<matplotlib.collections.PathCollection at 0x16ff12b0f28>"
      ]
     },
     "execution_count": 4,
     "metadata": {},
     "output_type": "execute_result"
    },
    {
     "data": {
      "image/png": "[encoded data removed]",
      "text/plain": [
       "<Figure size 432x288 with 1 Axes>"
      ]
     },
     "metadata": {},
     "output_type": "display_data"
    }
   ],
   "source": [
    "plt.scatter(x_train1, y_train1, color='blue')\n",
    "plt.scatter(x_test1,y_test1,color='red')"
   ]
  },
  {
   "cell_type": "code",
   "execution_count": 5,
   "metadata": {
    "collapsed": true
   },
   "outputs": [],
   "source": [
    "# linear regression using \"mini-batch\" gradient descent \n",
    "# function to compute hypothesis / predictions \n",
    "def hypothesis(x, eta): \n",
    "    return np.dot(x, eta) \n",
    "  \n",
    "# function to compute gradient of error function w.r.t. eta \n",
    "def gradient(x, y, eta): \n",
    "    h = hypothesis(x, eta) \n",
    "    grad = np.dot(x.transpose(), (h - y)) \n",
    "    return grad \n",
    "  \n",
    "# function to compute the error for current values of eta \n",
    "def height(x, y, eta): \n",
    "    h = hypothesis(x, eta) \n",
    "    J = np.dot((h - y).transpose(), (h - y)) \n",
    "    J /= 2\n",
    "    return J[0] \n",
    "  \n",
    "# function to create a list containing mini-batches \n",
    "def create_mini_batches(x, y, batch_size): \n",
    "    mini_batches = [] \n",
    "    data = np.hstack((x, y)) \n",
    "    np.random.shuffle(data) \n",
    "    n_minibatches = data.shape[0] // batch_size \n",
    "    i = 0\n",
    "  \n",
    "    for i in range(n_minibatches + 1): \n",
    "        mini_batch = data[i * batch_size:(i + 1)*batch_size, :] \n",
    "        x_mini = mini_batch[:, :-1] \n",
    "        y_mini = mini_batch[:, -1].reshape((-1, 1)) \n",
    "        mini_batches.append((x_mini, y_mini)) \n",
    "    if data.shape[0] % batch_size != 0: \n",
    "        mini_batch = data[i * batch_size:data.shape[0]] \n",
    "        x_mini = mini_batch[:, :-1] \n",
    "        y_mini = mini_batch[:, -1].reshape((-1, 1)) \n",
    "        mini_batches.append((x_mini, y_mini)) \n",
    "        #print(mini_batches)\n",
    "    return mini_batches \n",
    "  \n",
    "# function to perform mini-batch gradient descent \n",
    "def gradientDescent(x, y, learning_rate = 0.00001, batch_size = 2): \n",
    "    eta = np.zeros((x.shape[1], 1)) \n",
    "    error_list = [] \n",
    "    max_iters = 100\n",
    "    for itr in range(max_iters): \n",
    "        mini_batches = create_mini_batches(x, y, batch_size) \n",
    "        for mini_batch in mini_batches: \n",
    "            x_mini, y_mini = mini_batch \n",
    "            eta = eta - learning_rate * gradient(x_mini, y_mini, eta) \n",
    "            error_list.append(height(x_mini, y_mini, eta)) \n",
    "  \n",
    "    return eta, error_list "
   ]
  },
  {
   "cell_type": "code",
   "execution_count": 6,
   "metadata": {},
   "outputs": [
    {
     "name": "stdout",
     "output_type": "stream",
     "text": [
      "Height =  [1.01604912]\n",
      "Coefficients =  []\n"
     ]
    },
    {
     "data": {
      "image/png": "[encoded data removed]",
      "text/plain": [
       "<Figure size 432x288 with 1 Axes>"
      ]
     },
     "metadata": {},
     "output_type": "display_data"
    }
   ],
   "source": [
    "eta, error_list = gradientDescent(x_train1, y_train1) \n",
    "print(\"Height = \", eta[0]) \n",
    "print(\"Coefficients = \", eta[1:]) \n",
    "  \n",
    "# visualising gradient descent \n",
    "plt.plot(error_list) \n",
    "plt.xlabel(\"Number of iterations\") \n",
    "plt.ylabel(\"Height\") \n",
    "plt.show() "
   ]
  },
  {
   "cell_type": "code",
   "execution_count": 1,
   "metadata": {},
   "outputs": [
    {
     "ename": "NameError",
     "evalue": "name 'hypothesis' is not defined",
     "output_type": "error",
     "traceback": [
      "\u001b[1;31m---------------------------------------------------------------------------\u001b[0m",
      "\u001b[1;31mNameError\u001b[0m                                 Traceback (most recent call last)",
      "\u001b[1;32m<ipython-input-1-b153e1a64248>\u001b[0m in \u001b[0;36m<module>\u001b[1;34m()\u001b[0m\n\u001b[0;32m      1\u001b[0m \u001b[1;31m# predicting output for x_test\u001b[0m\u001b[1;33m\u001b[0m\u001b[1;33m\u001b[0m\u001b[0m\n\u001b[1;32m----> 2\u001b[1;33m \u001b[0my_pred\u001b[0m \u001b[1;33m=\u001b[0m \u001b[0mhypothesis\u001b[0m\u001b[1;33m(\u001b[0m\u001b[0mx_test1\u001b[0m\u001b[1;33m,\u001b[0m \u001b[0meta\u001b[0m\u001b[1;33m)\u001b[0m\u001b[1;33m\u001b[0m\u001b[0m\n\u001b[0m\u001b[0;32m      3\u001b[0m \u001b[0mplt\u001b[0m\u001b[1;33m.\u001b[0m\u001b[0mscatter\u001b[0m\u001b[1;33m(\u001b[0m\u001b[0mx_test1\u001b[0m\u001b[1;33m[\u001b[0m\u001b[1;33m:\u001b[0m\u001b[1;33m,\u001b[0m \u001b[1;36m0\u001b[0m\u001b[1;33m]\u001b[0m\u001b[1;33m,\u001b[0m \u001b[0my_test1\u001b[0m\u001b[1;33m[\u001b[0m\u001b[1;33m:\u001b[0m\u001b[1;33m,\u001b[0m \u001b[1;33m]\u001b[0m\u001b[1;33m,\u001b[0m \u001b[0mmarker\u001b[0m \u001b[1;33m=\u001b[0m \u001b[1;34m'.'\u001b[0m\u001b[1;33m)\u001b[0m\u001b[1;33m\u001b[0m\u001b[0m\n\u001b[0;32m      4\u001b[0m \u001b[0mplt\u001b[0m\u001b[1;33m.\u001b[0m\u001b[0mplot\u001b[0m\u001b[1;33m(\u001b[0m\u001b[0mx_test1\u001b[0m\u001b[1;33m[\u001b[0m\u001b[1;33m:\u001b[0m\u001b[1;33m,\u001b[0m \u001b[1;36m0\u001b[0m\u001b[1;33m]\u001b[0m\u001b[1;33m,\u001b[0m \u001b[0my_pred\u001b[0m\u001b[1;33m,\u001b[0m \u001b[0mcolor\u001b[0m \u001b[1;33m=\u001b[0m \u001b[1;34m'orange'\u001b[0m\u001b[1;33m)\u001b[0m\u001b[1;33m\u001b[0m\u001b[0m\n\u001b[0;32m      5\u001b[0m \u001b[0mplt\u001b[0m\u001b[1;33m.\u001b[0m\u001b[0msavefig\u001b[0m\u001b[1;33m(\u001b[0m\u001b[1;34m'Minibatch_gradient_descent_line.png'\u001b[0m\u001b[1;33m)\u001b[0m\u001b[1;33m\u001b[0m\u001b[0m\n",
      "\u001b[1;31mNameError\u001b[0m: name 'hypothesis' is not defined"
     ]
    }
   ],
   "source": [
    "# predicting output for x_test \n",
    "y_pred = hypothesis(x_test1, eta) \n",
    "plt.scatter(x_test1[:, 0], y_test1[:, ], marker = '.') \n",
    "plt.plot(x_test1[:, 0], y_pred, color = 'orange') \n",
    "plt.savefig('Minibatch_gradient_descent_line.png')\n",
    "  \n",
    "# calculating error in predictions \n",
    "error = np.sum(np.abs(y_test1 - y_pred) / y_test1.shape[0]) \n",
    "print(\"RSE = \", error) "
   ]
  },
  {
   "cell_type": "code",
   "execution_count": 27,
   "metadata": {},
   "outputs": [
    {
     "name": "stdout",
     "output_type": "stream",
     "text": [
      "mse = \n",
      " 2.366314403236423\n",
      "rmse = \n",
      " 1.5382829399159386\n",
      "r2 = \n",
      " -0.27334500307616705\n"
     ]
    }
   ],
   "source": [
    "\n",
    "r2_score(y_test1, y_pred)\n",
    "\n",
    "rmse=math.sqrt(error)\n",
    "r2=r2_score(x_test1,y_test1)\n",
    "print(\"mse = \\n\",error)\n",
    "print(\"rmse = \\n\",rmse)\n",
    "print(\"r2 = \\n\",r2)\n"
   ]
  },
  {
   "cell_type": "code",
   "execution_count": null,
   "metadata": {
    "collapsed": true
   },
   "outputs": [],
   "source": []
  },
  {
   "cell_type": "code",
   "execution_count": null,
   "metadata": {
    "collapsed": true
   },
   "outputs": [],
   "source": []
  }
 ],
 "metadata": {
  "kernelspec": {
   "display_name": "Python 3",
   "language": "python",
   "name": "python3"
  },
  "language_info": {
   "codemirror_mode": {
    "name": "ipython",
    "version": 3
   },
   "file_extension": ".py",
   "mimetype": "text/x-python",
   "name": "python",
   "nbconvert_exporter": "python",
   "pygments_lexer": "ipython3",
   "version": "3.6.6"
  }
 },
 "nbformat": 4,
 "nbformat_minor": 2
}
